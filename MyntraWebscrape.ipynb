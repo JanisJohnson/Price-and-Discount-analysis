{
 "cells": [
  {
   "cell_type": "code",
   "execution_count": 5,
   "id": "fd9b1415-5b4e-49a1-8d87-ab9285c1aeac",
   "metadata": {},
   "outputs": [],
   "source": [
    "# Import required libraries\n",
    "from selenium import webdriver\n",
    "from selenium.webdriver.common.by import By\n",
    "from selenium.webdriver.support.ui import WebDriverWait\n",
    "from selenium.webdriver.support import expected_conditions as EC\n",
    "from selenium.webdriver.chrome.service import Service\n",
    "from webdriver_manager.chrome import ChromeDriverManager\n",
    "import pandas as pd\n",
    "import time"
   ]
  },
  {
   "cell_type": "code",
   "execution_count": 6,
   "id": "e0acaae7-15a8-450c-9f4f-8ca1b5b0aa79",
   "metadata": {},
   "outputs": [],
   "source": [
    "# Set up the WebDriver\n",
    "driver = webdriver.Chrome(service=Service(ChromeDriverManager().install()))\n",
    "wait = WebDriverWait(driver, 10)"
   ]
  },
  {
   "cell_type": "code",
   "execution_count": 7,
   "id": "7bc3392b-eb26-4972-a9e7-4cbdff11e5ad",
   "metadata": {},
   "outputs": [],
   "source": [
    "# URL of the page to scrape\n",
    "base_url = \"https://www.myntra.com/leather-jackets-for-men?rawQuery=leather%20jackets%20for%20men\""
   ]
  },
  {
   "cell_type": "code",
   "execution_count": null,
   "id": "1c528963-853e-4d57-bdec-437bf914314b",
   "metadata": {},
   "outputs": [],
   "source": [
    "# Function to extract product data\n",
    "def extract_product_data(url):\n",
    "    driver.get(url)\n",
    "    time.sleep(5)  # Wait for the page to load\n",
    "\n",
    "    products = wait.until(EC.presence_of_all_elements_located((By.CLASS_NAME, \"product-base\")))\n",
    "\n",
    "    product_data = []\n",
    "\n",
    "    for product in products:\n",
    "        try:\n",
    "            brand = product.find_element(By.CLASS_NAME, \"product-brand\").text\n",
    "            name = product.find_element(By.CLASS_NAME, \"product-product\").text\n",
    "            price = product.find_element(By.CLASS_NAME, \"product-discountedPrice\").text\n",
    "            discount = product.find_element(By.CLASS_NAME, \"product-discountPercentage\").text\n",
    "            \n",
    "            product_data.append({'Brand': brand, 'Name': name, 'Price': price, 'Discount': discount})\n",
    "        except Exception as e:\n",
    "            print(f\"An error occurred while extracting product data: {e}\")\n",
    "\n",
    "    return product_data\n",
    "\n",
    "# Function to scrape all pages\n",
    "def scrape_all_pages(base_url):\n",
    "    all_product_info = []\n",
    "    driver.get(base_url)\n",
    "    time.sleep(5)  # Wait for the page to load\n",
    "\n",
    "    while True:\n",
    "        page_data = extract_product_data(driver.current_url)\n",
    "        all_product_info.extend(page_data)\n",
    "\n",
    "        try:\n",
    "            # Updated XPath for the \"Next\" button\n",
    "            next_button = wait.until(EC.element_to_be_clickable((By.XPATH, \"//li[@class='pagination-next']\")))\n",
    "            next_button.click()\n",
    "            time.sleep(5)  # Wait for the next page to load\n",
    "        except Exception as e:\n",
    "            print(\"No more pages to scrape or an error occurred:\", e)\n",
    "            break\n",
    "\n",
    "    return all_product_info\n",
    "\n",
    "# Function to save data to CSV using pandas\n",
    "def save_to_csv(data, filename):\n",
    "    df = pd.DataFrame(data)\n",
    "    df.to_csv(filename, index=False, encoding='utf-8')\n",
    "\n",
    "# Call the functions\n",
    "all_product_info = scrape_all_pages(base_url)\n",
    "print(all_product_info)\n",
    "\n",
    "# Save to CSV only if there is data\n",
    "if all_product_info:\n",
    "    save_to_csv(all_product_info, 'scraped_data.csv')\n",
    "else:\n",
    "    print(\"No data to save to CSV.\")\n",
    "\n",
    "# Close the WebDriver\n",
    "driver.quit()"
   ]
  },
  {
   "cell_type": "code",
   "execution_count": null,
   "id": "cc24a8aa-82d1-48f3-ad90-84bd6661bb5a",
   "metadata": {},
   "outputs": [],
   "source": []
  }
 ],
 "metadata": {
  "kernelspec": {
   "display_name": "Python 3 (ipykernel)",
   "language": "python",
   "name": "python3"
  },
  "language_info": {
   "codemirror_mode": {
    "name": "ipython",
    "version": 3
   },
   "file_extension": ".py",
   "mimetype": "text/x-python",
   "name": "python",
   "nbconvert_exporter": "python",
   "pygments_lexer": "ipython3",
   "version": "3.11.7"
  }
 },
 "nbformat": 4,
 "nbformat_minor": 5
}
